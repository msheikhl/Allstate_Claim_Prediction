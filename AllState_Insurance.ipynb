{
 "cells": [
  {
   "cell_type": "markdown",
   "metadata": {},
   "source": [
    "# Allstate Auto Insurance Claim Prediction with XGBoost\n"
   ]
  },
  {
   "cell_type": "markdown",
   "metadata": {},
   "source": [
    "## Contents\n",
    "### 1. Data Description and Wrangling \n",
    "### 2. Fitting the Model\n",
    "### 3. Conslusions \n",
    "\n",
    "\n"
   ]
  },
  {
   "cell_type": "code",
   "execution_count": 49,
   "metadata": {},
   "outputs": [],
   "source": [
    "#importing required packages \n",
    "\n",
    "import pandas as pd\n",
    "import numpy as np\n",
    "import matplotlib.pyplot as plt\n",
    "from sklearn.model_selection import train_test_split\n",
    "import xgboost \n",
    "import xgboost as xgb\n",
    "import time\n",
    "from sklearn.preprocessing import LabelEncoder,PowerTransformer,QuantileTransformer\n",
    "\n",
    "from sklearn.metrics import mean_absolute_error\n",
    "from sklearn.ensemble import GradientBoostingRegressor\n"
   ]
  },
  {
   "cell_type": "markdown",
   "metadata": {},
   "source": [
    "## 1. Data Description and Wrangling"
   ]
  },
  {
   "cell_type": "code",
   "execution_count": 27,
   "metadata": {},
   "outputs": [
    {
     "name": "stdout",
     "output_type": "stream",
     "text": [
      "  cat1 cat2 cat3 cat4 cat5 cat6 cat7 cat8 cat9 cat10    ...        cont5  \\\n",
      "0    A    B    A    B    A    A    A    A    B     A    ...     0.310061   \n",
      "1    A    B    A    A    A    A    A    A    B     B    ...     0.885834   \n",
      "2    A    B    A    A    B    A    A    A    B     B    ...     0.397069   \n",
      "3    B    B    A    B    A    A    A    A    B     A    ...     0.422268   \n",
      "4    A    B    A    B    A    A    A    A    B     B    ...     0.704268   \n",
      "\n",
      "      cont6     cont7    cont8    cont9   cont10    cont11    cont12  \\\n",
      "0  0.718367  0.335060  0.30260  0.67135  0.83510  0.569745  0.594646   \n",
      "1  0.438917  0.436585  0.60087  0.35127  0.43919  0.338312  0.366307   \n",
      "2  0.289648  0.315545  0.27320  0.26076  0.32446  0.381398  0.373424   \n",
      "3  0.440945  0.391128  0.31796  0.32128  0.44467  0.327915  0.321570   \n",
      "4  0.178193  0.247408  0.24564  0.22089  0.21230  0.204687  0.202213   \n",
      "\n",
      "     cont13    cont14  \n",
      "0  0.822493  0.714843  \n",
      "1  0.611431  0.304496  \n",
      "2  0.195709  0.774425  \n",
      "3  0.605077  0.602642  \n",
      "4  0.246011  0.432606  \n",
      "\n",
      "[5 rows x 130 columns] 0    2213.18\n",
      "1    1283.60\n",
      "2    3005.09\n",
      "3     939.85\n",
      "4    2763.85\n",
      "Name: loss, dtype: float64\n"
     ]
    }
   ],
   "source": [
    "#importing the train and submission data for Kaggle\n",
    "\n",
    "data=pd.read_csv(\"/Users/miladsheikhlari/Downloads/allstate-claims-severity/train.csv\")\n",
    "\n",
    "# dropping the id column and separating ys and xs\n",
    "\n",
    "data1=data.iloc[:,1:131]\n",
    "y=data[\"loss\"]\n",
    "\n",
    "print(data1.head(),y.head())"
   ]
  },
  {
   "cell_type": "code",
   "execution_count": 28,
   "metadata": {},
   "outputs": [
    {
     "name": "stdout",
     "output_type": "stream",
     "text": [
      "<class 'pandas.core.frame.DataFrame'>\n",
      "RangeIndex: 188318 entries, 0 to 188317\n",
      "Columns: 130 entries, cat1 to cont14\n",
      "dtypes: float64(14), object(116)\n",
      "memory usage: 186.8+ MB\n"
     ]
    }
   ],
   "source": [
    "data1.info()"
   ]
  },
  {
   "cell_type": "markdown",
   "metadata": {},
   "source": [
    "The dataset consits of 130 columns corresponding to 10 features. 14 of the features are numerical and 116 are categorical values "
   ]
  },
  {
   "cell_type": "code",
   "execution_count": 56,
   "metadata": {},
   "outputs": [
    {
     "data": {
      "text/plain": [
       "(array([1.08301e+05, 4.91050e+04, 1.79790e+04, 7.05100e+03, 3.05500e+03,\n",
       "        1.41100e+03, 6.55000e+02, 3.23000e+02, 1.91000e+02, 8.80000e+01]),\n",
       " array([6.7000000e-01, 2.5000150e+03, 4.9993600e+03, 7.4987050e+03,\n",
       "        9.9980500e+03, 1.2497395e+04, 1.4996740e+04, 1.7496085e+04,\n",
       "        1.9995430e+04, 2.2494775e+04, 2.4994120e+04]),\n",
       " <a list of 10 Patch objects>)"
      ]
     },
     "execution_count": 56,
     "metadata": {},
     "output_type": "execute_result"
    },
    {
     "data": {
      "image/png": "[encoded data removed]",
      "text/plain": [
       "<matplotlib.figure.Figure at 0x1a26e86f28>"
      ]
     },
     "metadata": {},
     "output_type": "display_data"
    }
   ],
   "source": [
    "#the distribution of insurance claim\n",
    "\n",
    "plt.hist(y[y<25000])"
   ]
  },
  {
   "cell_type": "markdown",
   "metadata": {},
   "source": [
    "As expected the insurance claim amounts are right-skewed with mostly small claims and few large claims"
   ]
  },
  {
   "cell_type": "code",
   "execution_count": 29,
   "metadata": {},
   "outputs": [],
   "source": [
    "# transformins the categorical columns\n",
    "\n",
    "enc=LabelEncoder()\n",
    "\n",
    "\n",
    "for i in range(len(data1.loc[:,data1.dtypes=='object'].columns)):\n",
    "    data1.iloc[:,i]=enc.fit_transform(data1.iloc[:,i])\n"
   ]
  },
  {
   "cell_type": "code",
   "execution_count": 30,
   "metadata": {},
   "outputs": [
    {
     "data": {
      "text/html": [
       "<div>\n",
       "<style scoped>\n",
       "    .dataframe tbody tr th:only-of-type {\n",
       "        vertical-align: middle;\n",
       "    }\n",
       "\n",
       "    .dataframe tbody tr th {\n",
       "        vertical-align: top;\n",
       "    }\n",
       "\n",
       "    .dataframe thead th {\n",
       "        text-align: right;\n",
       "    }\n",
       "</style>\n",
       "<table border=\"1\" class=\"dataframe\">\n",
       "  <thead>\n",
       "    <tr style=\"text-align: right;\">\n",
       "      <th></th>\n",
       "      <th>cat1</th>\n",
       "      <th>cat2</th>\n",
       "      <th>cat3</th>\n",
       "      <th>cat4</th>\n",
       "      <th>cat5</th>\n",
       "      <th>cat6</th>\n",
       "      <th>cat7</th>\n",
       "      <th>cat8</th>\n",
       "      <th>cat9</th>\n",
       "      <th>cat10</th>\n",
       "      <th>...</th>\n",
       "      <th>cont5</th>\n",
       "      <th>cont6</th>\n",
       "      <th>cont7</th>\n",
       "      <th>cont8</th>\n",
       "      <th>cont9</th>\n",
       "      <th>cont10</th>\n",
       "      <th>cont11</th>\n",
       "      <th>cont12</th>\n",
       "      <th>cont13</th>\n",
       "      <th>cont14</th>\n",
       "    </tr>\n",
       "  </thead>\n",
       "  <tbody>\n",
       "    <tr>\n",
       "      <th>0</th>\n",
       "      <td>0</td>\n",
       "      <td>1</td>\n",
       "      <td>0</td>\n",
       "      <td>1</td>\n",
       "      <td>0</td>\n",
       "      <td>0</td>\n",
       "      <td>0</td>\n",
       "      <td>0</td>\n",
       "      <td>1</td>\n",
       "      <td>0</td>\n",
       "      <td>...</td>\n",
       "      <td>0.310061</td>\n",
       "      <td>0.718367</td>\n",
       "      <td>0.335060</td>\n",
       "      <td>0.30260</td>\n",
       "      <td>0.67135</td>\n",
       "      <td>0.83510</td>\n",
       "      <td>0.569745</td>\n",
       "      <td>0.594646</td>\n",
       "      <td>0.822493</td>\n",
       "      <td>0.714843</td>\n",
       "    </tr>\n",
       "    <tr>\n",
       "      <th>1</th>\n",
       "      <td>0</td>\n",
       "      <td>1</td>\n",
       "      <td>0</td>\n",
       "      <td>0</td>\n",
       "      <td>0</td>\n",
       "      <td>0</td>\n",
       "      <td>0</td>\n",
       "      <td>0</td>\n",
       "      <td>1</td>\n",
       "      <td>1</td>\n",
       "      <td>...</td>\n",
       "      <td>0.885834</td>\n",
       "      <td>0.438917</td>\n",
       "      <td>0.436585</td>\n",
       "      <td>0.60087</td>\n",
       "      <td>0.35127</td>\n",
       "      <td>0.43919</td>\n",
       "      <td>0.338312</td>\n",
       "      <td>0.366307</td>\n",
       "      <td>0.611431</td>\n",
       "      <td>0.304496</td>\n",
       "    </tr>\n",
       "    <tr>\n",
       "      <th>2</th>\n",
       "      <td>0</td>\n",
       "      <td>1</td>\n",
       "      <td>0</td>\n",
       "      <td>0</td>\n",
       "      <td>1</td>\n",
       "      <td>0</td>\n",
       "      <td>0</td>\n",
       "      <td>0</td>\n",
       "      <td>1</td>\n",
       "      <td>1</td>\n",
       "      <td>...</td>\n",
       "      <td>0.397069</td>\n",
       "      <td>0.289648</td>\n",
       "      <td>0.315545</td>\n",
       "      <td>0.27320</td>\n",
       "      <td>0.26076</td>\n",
       "      <td>0.32446</td>\n",
       "      <td>0.381398</td>\n",
       "      <td>0.373424</td>\n",
       "      <td>0.195709</td>\n",
       "      <td>0.774425</td>\n",
       "    </tr>\n",
       "    <tr>\n",
       "      <th>3</th>\n",
       "      <td>1</td>\n",
       "      <td>1</td>\n",
       "      <td>0</td>\n",
       "      <td>1</td>\n",
       "      <td>0</td>\n",
       "      <td>0</td>\n",
       "      <td>0</td>\n",
       "      <td>0</td>\n",
       "      <td>1</td>\n",
       "      <td>0</td>\n",
       "      <td>...</td>\n",
       "      <td>0.422268</td>\n",
       "      <td>0.440945</td>\n",
       "      <td>0.391128</td>\n",
       "      <td>0.31796</td>\n",
       "      <td>0.32128</td>\n",
       "      <td>0.44467</td>\n",
       "      <td>0.327915</td>\n",
       "      <td>0.321570</td>\n",
       "      <td>0.605077</td>\n",
       "      <td>0.602642</td>\n",
       "    </tr>\n",
       "    <tr>\n",
       "      <th>4</th>\n",
       "      <td>0</td>\n",
       "      <td>1</td>\n",
       "      <td>0</td>\n",
       "      <td>1</td>\n",
       "      <td>0</td>\n",
       "      <td>0</td>\n",
       "      <td>0</td>\n",
       "      <td>0</td>\n",
       "      <td>1</td>\n",
       "      <td>1</td>\n",
       "      <td>...</td>\n",
       "      <td>0.704268</td>\n",
       "      <td>0.178193</td>\n",
       "      <td>0.247408</td>\n",
       "      <td>0.24564</td>\n",
       "      <td>0.22089</td>\n",
       "      <td>0.21230</td>\n",
       "      <td>0.204687</td>\n",
       "      <td>0.202213</td>\n",
       "      <td>0.246011</td>\n",
       "      <td>0.432606</td>\n",
       "    </tr>\n",
       "  </tbody>\n",
       "</table>\n",
       "<p>5 rows × 130 columns</p>\n",
       "</div>"
      ],
      "text/plain": [
       "   cat1  cat2  cat3  cat4  cat5  cat6  cat7  cat8  cat9  cat10    ...     \\\n",
       "0     0     1     0     1     0     0     0     0     1      0    ...      \n",
       "1     0     1     0     0     0     0     0     0     1      1    ...      \n",
       "2     0     1     0     0     1     0     0     0     1      1    ...      \n",
       "3     1     1     0     1     0     0     0     0     1      0    ...      \n",
       "4     0     1     0     1     0     0     0     0     1      1    ...      \n",
       "\n",
       "      cont5     cont6     cont7    cont8    cont9   cont10    cont11  \\\n",
       "0  0.310061  0.718367  0.335060  0.30260  0.67135  0.83510  0.569745   \n",
       "1  0.885834  0.438917  0.436585  0.60087  0.35127  0.43919  0.338312   \n",
       "2  0.397069  0.289648  0.315545  0.27320  0.26076  0.32446  0.381398   \n",
       "3  0.422268  0.440945  0.391128  0.31796  0.32128  0.44467  0.327915   \n",
       "4  0.704268  0.178193  0.247408  0.24564  0.22089  0.21230  0.204687   \n",
       "\n",
       "     cont12    cont13    cont14  \n",
       "0  0.594646  0.822493  0.714843  \n",
       "1  0.366307  0.611431  0.304496  \n",
       "2  0.373424  0.195709  0.774425  \n",
       "3  0.321570  0.605077  0.602642  \n",
       "4  0.202213  0.246011  0.432606  \n",
       "\n",
       "[5 rows x 130 columns]"
      ]
     },
     "execution_count": 30,
     "metadata": {},
     "output_type": "execute_result"
    }
   ],
   "source": [
    "data1.head()"
   ]
  },
  {
   "cell_type": "code",
   "execution_count": 31,
   "metadata": {},
   "outputs": [],
   "source": [
    "#splitting training and test sets\n",
    "\n",
    "X_train, X_test, y_train, y_test = train_test_split(\n",
    "        data1, y, test_size=0.2, random_state=42)\n"
   ]
  },
  {
   "cell_type": "code",
   "execution_count": 32,
   "metadata": {},
   "outputs": [
    {
     "data": {
      "image/png": "[encoded data removed]",
      "text/plain": [
       "<matplotlib.figure.Figure at 0x1a27905358>"
      ]
     },
     "metadata": {},
     "output_type": "display_data"
    }
   ],
   "source": [
    "for i in range(14):\n",
    "    plt.subplot(7,2,i+1)\n",
    "    \n",
    "    plt.hist(X_train.iloc[:,116+i])\n",
    "    "
   ]
  },
  {
   "cell_type": "code",
   "execution_count": 33,
   "metadata": {},
   "outputs": [
    {
     "data": {
      "image/png": "[encoded data removed]",
      "text/plain": [
       "<matplotlib.figure.Figure at 0x1a279051d0>"
      ]
     },
     "metadata": {},
     "output_type": "display_data"
    }
   ],
   "source": [
    "for i in range(14):\n",
    "    plt.subplot(7,2,i+1)\n",
    "    \n",
    "    plt.hist(X_test.iloc[:,116+i])\n"
   ]
  },
  {
   "cell_type": "markdown",
   "metadata": {},
   "source": [
    "The numerical features are all on the same scale (0,1). The distribution of these covariates suggest that our model might benifit from a trasformation"
   ]
  },
  {
   "cell_type": "code",
   "execution_count": 34,
   "metadata": {},
   "outputs": [
    {
     "name": "stderr",
     "output_type": "stream",
     "text": [
      "/Users/miladsheikhlari/anaconda3/lib/python3.6/site-packages/pandas/core/indexing.py:537: SettingWithCopyWarning: \n",
      "A value is trying to be set on a copy of a slice from a DataFrame.\n",
      "Try using .loc[row_indexer,col_indexer] = value instead\n",
      "\n",
      "See the caveats in the documentation: http://pandas.pydata.org/pandas-docs/stable/indexing.html#indexing-view-versus-copy\n",
      "  self.obj[item] = s\n",
      "/Users/miladsheikhlari/anaconda3/lib/python3.6/site-packages/pandas/core/indexing.py:537: SettingWithCopyWarning: \n",
      "A value is trying to be set on a copy of a slice from a DataFrame.\n",
      "Try using .loc[row_indexer,col_indexer] = value instead\n",
      "\n",
      "See the caveats in the documentation: http://pandas.pydata.org/pandas-docs/stable/indexing.html#indexing-view-versus-copy\n",
      "  self.obj[item] = s\n"
     ]
    }
   ],
   "source": [
    "pt=QuantileTransformer()\n",
    "\n",
    "X_train.iloc[:,116:] =pt.fit_transform(X_train.iloc[:,116:])\n",
    "X_test.iloc[:,116:] =pt.fit_transform(X_test.iloc[:,116:])\n"
   ]
  },
  {
   "cell_type": "code",
   "execution_count": 35,
   "metadata": {},
   "outputs": [
    {
     "data": {
      "image/png": "[encoded data removed]",
      "text/plain": [
       "<matplotlib.figure.Figure at 0x1a26bca438>"
      ]
     },
     "metadata": {},
     "output_type": "display_data"
    }
   ],
   "source": [
    "for i in range(14):\n",
    "    plt.subplot(7,2,i+1)\n",
    "    \n",
    "    plt.hist(X_train.iloc[:,116+i])\n",
    "    "
   ]
  },
  {
   "cell_type": "code",
   "execution_count": 36,
   "metadata": {},
   "outputs": [
    {
     "data": {
      "image/png": "[encoded data removed]",
      "text/plain": [
       "<matplotlib.figure.Figure at 0x1a26f19208>"
      ]
     },
     "metadata": {},
     "output_type": "display_data"
    }
   ],
   "source": [
    "for i in range(14):\n",
    "    plt.subplot(7,2,i+1)\n",
    "    \n",
    "    plt.hist(X_test.iloc[:,116+i])\n",
    "    "
   ]
  },
  {
   "cell_type": "markdown",
   "metadata": {},
   "source": [
    "## 2. Fitting the Model"
   ]
  },
  {
   "cell_type": "markdown",
   "metadata": {},
   "source": [
    "Extreme Gradient Boosting (xgboost) is similar to gradient boosting framework but more efficient. It has both linear model solver and tree learning algorithms. So, what makes it fast is its capacity to do parallel computation on a single machine.\n",
    "\n",
    "This makes xgboost at least 10 times faster than existing gradient boosting implementations. It supports various objective functions, including regression, classification and ranking. For this dataset since we are working with skewed insurance loss data the \"tweedie\" objective function seems a suitable choice.\n",
    "\n",
    "\n"
   ]
  },
  {
   "cell_type": "code",
   "execution_count": 58,
   "metadata": {},
   "outputs": [
    {
     "name": "stdout",
     "output_type": "stream",
     "text": [
      "1258.9682991073205\n",
      "Execution time:  106.57068514823914 seconds\n"
     ]
    }
   ],
   "source": [
    "# fitting a XGBoost model with Tweeide regression function\n",
    "\n",
    "start = time.time()\n",
    "model1=xgb.XGBRegressor(objective='reg:tweedie',seed =42)\n",
    "model1.fit(X_train,y_train)\n",
    "prediction1=model1.predict(X_test)\n",
    "MAE1=mean_absolute_error(y_test,prediction1)\n",
    "print(MAE1)\n",
    "end = time.time()\n",
    "print(\"Execution time: \",(end - start),\"seconds\")"
   ]
  },
  {
   "cell_type": "markdown",
   "metadata": {},
   "source": [
    "As we can see this algorithms results in a mean absolute error of 1258 in around a minute and half. Note that using the linear objective function enables us to tune the model parameters to produce better results. The number of trees used in the algorithm has a great impact on reducing the mae and increasing the number of trees results in lower mae. However this comes at a cost to computation time."
   ]
  },
  {
   "cell_type": "markdown",
   "metadata": {},
   "source": [
    "We could also use a Generalized Linear Model with the Tweedie family of distribution. The Tweedie distribution is a compound possoin distribution used in the insurance industry. It takes a  variance-power parameter(p) that falls in the (1,2) . The shape of the distribution gets closer to the Gamma as p approaches 2 and to the Possoin distribution as p approaches 1.\n",
    "\n",
    "The histogram of our claim data looks closer to the poisson distribution and therefore I have chosen p to be 1.03"
   ]
  },
  {
   "cell_type": "code",
   "execution_count": 59,
   "metadata": {},
   "outputs": [
    {
     "name": "stdout",
     "output_type": "stream",
     "text": [
      "                 Generalized Linear Model Regression Results                  \n",
      "==============================================================================\n",
      "Dep. Variable:                   loss   No. Observations:               150654\n",
      "Model:                            GLM   Df Residuals:                   150524\n",
      "Model Family:                 Tweedie   Df Model:                          129\n",
      "Link Function:                    log   Scale:              1386.8454207853094\n",
      "Method:                          IRLS   Log-Likelihood:                    nan\n",
      "Date:                Wed, 03 Jul 2019   Deviance:                   1.1350e+08\n",
      "Time:                        11:29:15   Pearson chi2:                 2.09e+08\n",
      "No. Iterations:                     7                                         \n",
      "==============================================================================\n",
      "                 coef    std err          z      P>|z|      [0.025      0.975]\n",
      "------------------------------------------------------------------------------\n",
      "cat1          -0.2125      0.006    -35.982      0.000      -0.224      -0.201\n",
      "cat2           0.1708      0.012     14.780      0.000       0.148       0.193\n",
      "cat3           0.0819      0.025      3.276      0.001       0.033       0.131\n",
      "cat4          -0.0199      0.010     -1.944      0.052      -0.040       0.000\n",
      "cat5           0.0329      0.008      4.231      0.000       0.018       0.048\n",
      "cat6          -0.1773      0.014    -12.872      0.000      -0.204      -0.150\n",
      "cat7           0.1144      0.039      2.901      0.004       0.037       0.192\n",
      "cat8           0.0638      0.026      2.497      0.013       0.014       0.114\n",
      "cat9          -0.0425      0.019     -2.186      0.029      -0.081      -0.004\n",
      "cat10          0.0190      0.018      1.081      0.280      -0.015       0.053\n",
      "cat11         -0.0140      0.018     -0.787      0.431      -0.049       0.021\n",
      "cat12          0.1624      0.018      9.193      0.000       0.128       0.197\n",
      "cat13         -0.0263      0.018     -1.482      0.138      -0.061       0.008\n",
      "cat14         -0.9945      0.028    -35.608      0.000      -1.049      -0.940\n",
      "cat15         -0.0949      0.135     -0.701      0.483      -0.360       0.170\n",
      "cat16          2.8040      0.473      5.929      0.000       1.877       3.731\n",
      "cat17          2.8488      0.474      6.007      0.000       1.919       3.778\n",
      "cat18          2.8541      0.474      6.024      0.000       1.926       3.783\n",
      "cat19          2.9466      0.473      6.224      0.000       2.019       3.874\n",
      "cat20          2.8469      0.474      6.007      0.000       1.918       3.776\n",
      "cat21          2.7185      0.472      5.763      0.000       1.794       3.643\n",
      "cat22          2.4723      0.462      5.350      0.000       1.566       3.378\n",
      "cat23          0.0275      0.015      1.889      0.059      -0.001       0.056\n",
      "cat24         -0.0208      0.017     -1.199      0.231      -0.055       0.013\n",
      "cat25          0.0500      0.016      3.056      0.002       0.018       0.082\n",
      "cat26          0.1863      0.016     11.542      0.000       0.155       0.218\n",
      "cat27          0.0882      0.015      5.837      0.000       0.059       0.118\n",
      "cat28         -0.0128      0.017     -0.742      0.458      -0.047       0.021\n",
      "cat29          0.0722      0.019      3.755      0.000       0.035       0.110\n",
      "cat30         -0.0040      0.020     -0.206      0.837      -0.042       0.034\n",
      "cat31         -0.0359      0.017     -2.097      0.036      -0.070      -0.002\n",
      "cat32          0.1207      0.027      4.549      0.000       0.069       0.173\n",
      "cat33         -0.7899      0.030    -25.972      0.000      -0.850      -0.730\n",
      "cat34         -0.6448      0.035    -18.414      0.000      -0.713      -0.576\n",
      "cat35          0.0897      0.048      1.867      0.062      -0.004       0.184\n",
      "cat36         -2.1062      1.677     -1.256      0.209      -5.394       1.181\n",
      "cat37         -2.0398      1.677     -1.216      0.224      -5.327       1.248\n",
      "cat38         -2.0071      1.677     -1.197      0.231      -5.295       1.280\n",
      "cat39         -2.1587      1.677     -1.287      0.198      -5.446       1.129\n",
      "cat40         -2.1213      1.677     -1.265      0.206      -5.409       1.166\n",
      "cat41         -2.1579      1.677     -1.287      0.198      -5.445       1.130\n",
      "cat42         -1.9832      1.677     -1.182      0.237      -5.271       1.304\n",
      "cat43         -2.1112      1.677     -1.259      0.208      -5.399       1.176\n",
      "cat44         -1.9178      1.677     -1.143      0.253      -5.205       1.370\n",
      "cat45         -2.1250      1.677     -1.267      0.205      -5.413       1.162\n",
      "cat46         -2.8199      1.677     -1.681      0.093      -6.107       0.467\n",
      "cat47         -2.7875      1.677     -1.662      0.097      -6.075       0.500\n",
      "cat48         -2.0309      1.677     -1.211      0.226      -5.317       1.256\n",
      "cat49          0.1094      0.013      8.491      0.000       0.084       0.135\n",
      "cat50          0.0705      0.015      4.580      0.000       0.040       0.101\n",
      "cat51         -0.7772      0.029    -26.503      0.000      -0.835      -0.720\n",
      "cat52          0.0991      0.013      7.680      0.000       0.074       0.124\n",
      "cat53          0.2694      0.012     22.376      0.000       0.246       0.293\n",
      "cat54          0.0032      0.015      0.212      0.832      -0.026       0.032\n",
      "cat55         -0.0122      0.068     -0.178      0.859      -0.146       0.122\n",
      "cat56          0.1547      0.063      2.444      0.015       0.031       0.279\n",
      "cat57         -0.3177      0.350     -0.908      0.364      -1.003       0.368\n",
      "cat58         -0.6527      0.355     -1.839      0.066      -1.348       0.043\n",
      "cat59         -0.5949      0.354     -1.680      0.093      -1.289       0.099\n",
      "cat60         -0.7205      0.353     -2.040      0.041      -1.413      -0.028\n",
      "cat61         -0.7881      0.350     -2.250      0.024      -1.475      -0.101\n",
      "cat62         -0.5537      0.347     -1.597      0.110      -1.233       0.126\n",
      "cat63         -0.8411      0.341     -2.465      0.014      -1.510      -0.172\n",
      "cat64         -0.5635      0.350     -1.612      0.107      -1.249       0.122\n",
      "cat65         -0.0123      0.031     -0.397      0.691      -0.073       0.048\n",
      "cat66         -0.0676      0.031     -2.149      0.032      -0.129      -0.006\n",
      "cat67          0.0295      0.039      0.765      0.444      -0.046       0.105\n",
      "cat68          0.0982      0.067      1.456      0.145      -0.034       0.230\n",
      "cat69         -0.0928      0.052     -1.794      0.073      -0.194       0.009\n",
      "cat70          0.1549      0.174      0.889      0.374      -0.187       0.496\n",
      "cat71          0.0785      0.010      7.640      0.000       0.058       0.099\n",
      "cat72          0.1209      0.005     26.268      0.000       0.112       0.130\n",
      "cat73         -0.1226      0.006    -19.006      0.000      -0.135      -0.110\n",
      "cat74          0.0236      0.013      1.748      0.080      -0.003       0.050\n",
      "cat75         -0.0499      0.006     -8.098      0.000      -0.062      -0.038\n",
      "cat76          1.0033      0.020     51.087      0.000       0.965       1.042\n",
      "cat77          2.2260      0.019    117.207      0.000       2.189       2.263\n",
      "cat78          0.0736      0.014      5.269      0.000       0.046       0.101\n",
      "cat79          0.1239      0.003     43.153      0.000       0.118       0.130\n",
      "cat80         -0.1936      0.003    -64.787      0.000      -0.199      -0.188\n",
      "cat81         -0.0860      0.003    -29.874      0.000      -0.092      -0.080\n",
      "cat82         -0.0744      0.003    -21.511      0.000      -0.081      -0.068\n",
      "cat83         -0.0116      0.003     -3.928      0.000      -0.017      -0.006\n",
      "cat84          0.0038      0.004      0.875      0.382      -0.005       0.012\n",
      "cat85          0.0665      0.011      5.868      0.000       0.044       0.089\n",
      "cat86          0.0419      0.011      3.915      0.000       0.021       0.063\n",
      "cat87          0.0578      0.004     14.762      0.000       0.050       0.066\n",
      "cat88          0.0253      0.005      4.657      0.000       0.015       0.036\n",
      "cat89          0.6477      0.361      1.794      0.073      -0.060       1.355\n",
      "cat90         -2.9155      0.477     -6.116      0.000      -3.850      -1.981\n",
      "cat91         -0.0007      0.002     -0.355      0.722      -0.004       0.003\n",
      "cat92          0.0139      0.001     10.211      0.000       0.011       0.017\n",
      "cat93          0.0266      0.005      5.452      0.000       0.017       0.036\n",
      "cat94          0.0103      0.003      3.330      0.001       0.004       0.016\n",
      "cat95          0.0103      0.005      1.934      0.053      -0.000       0.021\n",
      "cat96          0.0321      0.005      6.427      0.000       0.022       0.042\n",
      "cat97          0.0165      0.002     10.598      0.000       0.013       0.020\n",
      "cat98         -0.0521      0.005    -10.036      0.000      -0.062      -0.042\n",
      "cat99         -0.0043      0.001     -3.651      0.000      -0.007      -0.002\n",
      "cat100         0.0068      0.001     10.001      0.000       0.005       0.008\n",
      "cat101         0.0242      0.005      4.438      0.000       0.014       0.035\n",
      "cat102         0.0061      0.012      0.513      0.608      -0.017       0.029\n",
      "cat103         2.1465      1.677      1.280      0.201      -1.141       5.434\n",
      "cat104         0.0434      0.003     12.801      0.000       0.037       0.050\n",
      "cat105         0.0657      0.004     16.687      0.000       0.058       0.073\n",
      "cat106        -0.0010      0.004     -0.247      0.805      -0.009       0.007\n",
      "cat107         0.0046      0.004      1.299      0.194      -0.002       0.012\n",
      "cat108        -0.0047      0.001     -4.499      0.000      -0.007      -0.003\n",
      "cat109         0.0002      0.000      0.982      0.326      -0.000       0.001\n",
      "cat110         0.0001   7.14e-05      1.644      0.100   -2.25e-05       0.000\n",
      "cat111         0.0243      0.008      2.893      0.004       0.008       0.041\n",
      "cat112        -0.0014      0.000     -8.580      0.000      -0.002      -0.001\n",
      "cat113      -6.23e-05      0.000     -0.428      0.668      -0.000       0.000\n",
      "cat114         0.0153      0.003      5.365      0.000       0.010       0.021\n",
      "cat115         0.0133      0.004      3.520      0.000       0.006       0.021\n",
      "cat116     -2.225e-05   9.69e-05     -0.229      0.818      -0.000       0.000\n",
      "cont1         -0.2377      0.024     -9.736      0.000      -0.286      -0.190\n",
      "cont2          0.2903      0.011     27.187      0.000       0.269       0.311\n",
      "cont3          0.1948      0.016     12.050      0.000       0.163       0.226\n",
      "cont4         -0.1184      0.012    -10.269      0.000      -0.141      -0.096\n",
      "cont5          0.0421      0.007      6.296      0.000       0.029       0.055\n",
      "cont6          0.1820      0.042      4.285      0.000       0.099       0.265\n",
      "cont7          0.4075      0.018     22.867      0.000       0.373       0.442\n",
      "cont8          0.0970      0.010      9.391      0.000       0.077       0.117\n",
      "cont9          0.0970      0.021      4.668      0.000       0.056       0.138\n",
      "cont10         0.1190      0.024      4.968      0.000       0.072       0.166\n",
      "cont11        -0.0862      0.070     -1.230      0.219      -0.223       0.051\n",
      "cont12        -0.3730      0.076     -4.882      0.000      -0.523      -0.223\n",
      "cont13        -0.0878      0.030     -2.958      0.003      -0.146      -0.030\n",
      "cont14         0.1540      0.007     20.981      0.000       0.140       0.168\n",
      "==============================================================================\n",
      "Execution time:  86.61352491378784 seconds\n"
     ]
    }
   ],
   "source": [
    "In [1]: import statsmodels.api as sm\n",
    "\n",
    "start = time.time()\n",
    "\n",
    "GLM= sm.GLM(y_train,X_train, family=sm.families.Tweedie(var_power=1.03))\n",
    "model2=GLM.fit()\n",
    "print(model2.summary())\n",
    "end = time.time()\n",
    "print(\"Execution time: \",(end - start),\"seconds\")"
   ]
  },
  {
   "cell_type": "code",
   "execution_count": 61,
   "metadata": {},
   "outputs": [
    {
     "name": "stdout",
     "output_type": "stream",
     "text": [
      "1313.968899393942\n"
     ]
    }
   ],
   "source": [
    "prediction2=model2.predict(X_test)\n",
    "MAE2=mean_absolute_error(y_test,prediction2)\n",
    "print(MAE2)\n"
   ]
  },
  {
   "cell_type": "markdown",
   "metadata": {},
   "source": [
    "As we can see the mae using the GLM is 1313 which is higher than the mae from the XGBoost algorithms however the computation time is less. "
   ]
  },
  {
   "cell_type": "markdown",
   "metadata": {},
   "source": [
    "## 3. Conclusions"
   ]
  },
  {
   "cell_type": "markdown",
   "metadata": {},
   "source": [
    "The XGBoost algorithm has recently gained lots of attention in the world of data science. It is one of the most used algorithms in data science competitions. It is a fast algorithms with a high predictive power. However the traditional actuarial approach using GLMs for insurance data should not be overlooked. Data Science took time to embrace Actuaries practices. On the other end, Actuaries have resisted to Machine Learning innovations. We can  observe interest on both sides and that more Machine Learning algorithms support features that are essential for Actuaries but also useful for Data\n",
    "Scientists."
   ]
  }
 ],
 "metadata": {
  "kernelspec": {
   "display_name": "Python 3",
   "language": "python",
   "name": "python3"
  },
  "language_info": {
   "codemirror_mode": {
    "name": "ipython",
    "version": 3
   },
   "file_extension": ".py",
   "mimetype": "text/x-python",
   "name": "python",
   "nbconvert_exporter": "python",
   "pygments_lexer": "ipython3",
   "version": "3.6.4"
  }
 },
 "nbformat": 4,
 "nbformat_minor": 2
}
